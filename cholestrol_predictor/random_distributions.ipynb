{
 "cells": [
  {
   "cell_type": "markdown",
   "id": "4b125735",
   "metadata": {},
   "source": [
    "random numbers in numpy"
   ]
  },
  {
   "cell_type": "code",
   "execution_count": 4,
   "id": "f9ba10bd",
   "metadata": {},
   "outputs": [
    {
     "name": "stdout",
     "output_type": "stream",
     "text": [
      "34\n"
     ]
    }
   ],
   "source": [
    "from numpy import random\n",
    "x=random.randint(100) # random integer b/w 0 to 100\n",
    "print(x)"
   ]
  },
  {
   "cell_type": "code",
   "execution_count": 10,
   "id": "06b4aecd",
   "metadata": {},
   "outputs": [
    {
     "name": "stdout",
     "output_type": "stream",
     "text": [
      "0.9954063151955068\n"
     ]
    }
   ],
   "source": [
    "y=random.rand()\n",
    "print(y)# random float b/w 0 to 1"
   ]
  },
  {
   "cell_type": "code",
   "execution_count": null,
   "id": "02cf4830",
   "metadata": {},
   "outputs": [],
   "source": [
    "x=random.randint(100,size=(5))\n",
    "print(x) # "
   ]
  },
  {
   "cell_type": "code",
   "execution_count": null,
   "id": "a31fa306",
   "metadata": {},
   "outputs": [],
   "source": []
  }
 ],
 "metadata": {
  "kernelspec": {
   "display_name": "Python 3",
   "language": "python",
   "name": "python3"
  },
  "language_info": {
   "codemirror_mode": {
    "name": "ipython",
    "version": 3
   },
   "file_extension": ".py",
   "mimetype": "text/x-python",
   "name": "python",
   "nbconvert_exporter": "python",
   "pygments_lexer": "ipython3",
   "version": "3.12.3"
  }
 },
 "nbformat": 4,
 "nbformat_minor": 5
}
