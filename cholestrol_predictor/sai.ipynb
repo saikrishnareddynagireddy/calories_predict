{
 "cells": [
  {
   "cell_type": "code",
   "execution_count": null,
   "id": "80543cc0",
   "metadata": {},
   "outputs": [],
   "source": [
    "#searching for elements in an array using numpy\n",
    "import numpy as np"
   ]
  },
  {
   "cell_type": "code",
   "execution_count": 2,
   "id": "c881bcfd",
   "metadata": {},
   "outputs": [
    {
     "name": "stdout",
     "output_type": "stream",
     "text": [
      "(array([3, 5, 6]),)\n"
     ]
    }
   ],
   "source": [
    "import numpy as np\n",
    "a=np.array([1,2,3,4,5,4,4])\n",
    "x=np.where(a==4)\n",
    "print(x)"
   ]
  },
  {
   "cell_type": "code",
   "execution_count": 4,
   "id": "afc49768",
   "metadata": {},
   "outputs": [
    {
     "name": "stdout",
     "output_type": "stream",
     "text": [
      "(array([1, 3, 5, 7]),)\n"
     ]
    }
   ],
   "source": [
    "import numpy as np\n",
    "a=np.array([1,2,3,4,5,6,7,8])\n",
    "x=np.where(a%2==0)\n",
    "print(x)"
   ]
  },
  {
   "cell_type": "code",
   "execution_count": 5,
   "id": "306fe322",
   "metadata": {},
   "outputs": [
    {
     "name": "stdout",
     "output_type": "stream",
     "text": [
      "(array([0, 2, 4, 6]),)\n"
     ]
    }
   ],
   "source": [
    "import numpy as np\n",
    "a=np.array([1,2,3,4,5,6,7,8])\n",
    "x=np.where(a%2==1)\n",
    "print(x)"
   ]
  },
  {
   "cell_type": "code",
   "execution_count": 6,
   "id": "0b009307",
   "metadata": {},
   "outputs": [
    {
     "name": "stdout",
     "output_type": "stream",
     "text": [
      "1\n"
     ]
    }
   ],
   "source": [
    "a=np.array([6,7,8,9])\n",
    "x=np.searchsorted(a,7)\n",
    "print(x)"
   ]
  },
  {
   "cell_type": "code",
   "execution_count": 7,
   "id": "29965a2c",
   "metadata": {},
   "outputs": [
    {
     "data": {
      "text/plain": [
       "np.int64(2)"
      ]
     },
     "execution_count": 7,
     "metadata": {},
     "output_type": "execute_result"
    }
   ],
   "source": [
    "np.searchsorted(a, 7, side='right')"
   ]
  },
  {
   "cell_type": "code",
   "execution_count": 8,
   "id": "67d240ee",
   "metadata": {},
   "outputs": [
    {
     "name": "stdout",
     "output_type": "stream",
     "text": [
      "[2 3 5]\n"
     ]
    }
   ],
   "source": [
    "a=np.array([1,2,4,6,7,10])\n",
    "x=np.searchsorted(a,[3,5,8])\n",
    "print(x)"
   ]
  },
  {
   "cell_type": "markdown",
   "id": "8ff751b6",
   "metadata": {},
   "source": [
    "sorting of numpy arrays\n"
   ]
  },
  {
   "cell_type": "code",
   "execution_count": 10,
   "id": "dcd2edff",
   "metadata": {},
   "outputs": [
    {
     "name": "stdout",
     "output_type": "stream",
     "text": [
      "[0 1 2 3]\n"
     ]
    }
   ],
   "source": [
    "a=np.array([3,2,0,1])\n",
    "print(np.sort(a))"
   ]
  },
  {
   "cell_type": "code",
   "execution_count": 11,
   "id": "cd246463",
   "metadata": {},
   "outputs": [
    {
     "name": "stdout",
     "output_type": "stream",
     "text": [
      "['apple' 'banana' 'cherry']\n"
     ]
    }
   ],
   "source": [
    "a=np.array(['banana', 'apple', 'cherry'])\n",
    "print(np.sort(a))"
   ]
  },
  {
   "cell_type": "code",
   "execution_count": 12,
   "id": "4da919e4",
   "metadata": {},
   "outputs": [
    {
     "name": "stdout",
     "output_type": "stream",
     "text": [
      "[False  True  True]\n"
     ]
    }
   ],
   "source": [
    "a=np.array([True, False, True])\n",
    "print(np.sort(a))"
   ]
  },
  {
   "cell_type": "code",
   "execution_count": 13,
   "id": "227a09df",
   "metadata": {},
   "outputs": [
    {
     "name": "stdout",
     "output_type": "stream",
     "text": [
      "[[2 3 4]\n",
      " [0 1 5]]\n"
     ]
    }
   ],
   "source": [
    "#sorting of 2-dimensional numpy arrays\n",
    "a=np.array([[3,2,4],[5,0,1]])\n",
    "print(np.sort(a))"
   ]
  },
  {
   "cell_type": "markdown",
   "id": "a8ff094b",
   "metadata": {},
   "source": [
    "filtering of numpy array\n"
   ]
  },
  {
   "cell_type": "code",
   "execution_count": 15,
   "id": "644ac4d6",
   "metadata": {},
   "outputs": [
    {
     "name": "stdout",
     "output_type": "stream",
     "text": [
      "[41 43]\n"
     ]
    }
   ],
   "source": [
    "a=np.array([41,42,43,44])\n",
    "x=[True,False,True,False]\n",
    "new_array=a[x]\n",
    "print(new_array)\n"
   ]
  },
  {
   "cell_type": "code",
   "execution_count": 16,
   "id": "4159efbe",
   "metadata": {},
   "outputs": [
    {
     "name": "stdout",
     "output_type": "stream",
     "text": [
      "[42 44]    [False, True, False, True]\n"
     ]
    }
   ],
   "source": [
    "#filtering of numpy array using loops\n",
    "a=np.array([41,42,43,44])\n",
    "new_array=[]\n",
    "for i in a:\n",
    "    if i%2==0:\n",
    "        new_array.append(True)\n",
    "    else:\n",
    "        new_array.append(False)\n",
    "\n",
    "n_a=a[new_array]\n",
    "print(n_a,'  ',new_array)        \n",
    "\n",
    "\n"
   ]
  },
  {
   "cell_type": "code",
   "execution_count": 17,
   "id": "723408c7",
   "metadata": {},
   "outputs": [
    {
     "name": "stdout",
     "output_type": "stream",
     "text": [
      "[43 44]   [False False  True  True]\n"
     ]
    }
   ],
   "source": [
    "#filtering directly from array\n",
    "a=np.array([41,42,43,44])\n",
    "fil_a=a>42\n",
    "n_a=a[fil_a]\n",
    "print(n_a,' ',fil_a)"
   ]
  },
  {
   "cell_type": "code",
   "execution_count": 18,
   "id": "9ef6659b",
   "metadata": {},
   "outputs": [
    {
     "name": "stdout",
     "output_type": "stream",
     "text": [
      "[2 4 6 8]\n"
     ]
    }
   ],
   "source": [
    "#creating filter array  to display only even numbers\n",
    "a=np.array([1,2,3,4,5,6,7,8])\n",
    "x=a%2==0\n",
    "print(a[x])"
   ]
  },
  {
   "cell_type": "code",
   "execution_count": 19,
   "id": "2cb7e067",
   "metadata": {},
   "outputs": [],
   "source": [
    "a=[x for x in range(1,101)]"
   ]
  },
  {
   "cell_type": "code",
   "execution_count": 21,
   "id": "e96ec616",
   "metadata": {},
   "outputs": [
    {
     "name": "stdout",
     "output_type": "stream",
     "text": [
      "[2, 4, 6, 8, 10, 12, 14, 16, 18, 20, 22, 24, 26, 28, 30, 32, 34, 36, 38, 40, 42, 44, 46, 48, 50, 52, 54, 56, 58, 60, 62, 64, 66, 68, 70, 72, 74, 76, 78, 80, 82, 84, 86, 88, 90, 92, 94, 96, 98, 100]\n"
     ]
    }
   ],
   "source": [
    "print([x for x in a if x%2==0])"
   ]
  },
  {
   "cell_type": "code",
   "execution_count": null,
   "id": "e968db4f",
   "metadata": {},
   "outputs": [],
   "source": []
  }
 ],
 "metadata": {
  "kernelspec": {
   "display_name": "Python 3",
   "language": "python",
   "name": "python3"
  },
  "language_info": {
   "codemirror_mode": {
    "name": "ipython",
    "version": 3
   },
   "file_extension": ".py",
   "mimetype": "text/x-python",
   "name": "python",
   "nbconvert_exporter": "python",
   "pygments_lexer": "ipython3",
   "version": "3.12.3"
  }
 },
 "nbformat": 4,
 "nbformat_minor": 5
}
